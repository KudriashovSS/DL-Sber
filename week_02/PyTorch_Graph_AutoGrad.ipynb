{
  "cells": [
    {
      "cell_type": "markdown",
      "metadata": {
        "id": "pz6yHpQG8ClG"
      },
      "source": [
        "# PyTorch"
      ]
    },
    {
      "cell_type": "markdown",
      "metadata": {
        "id": "_HgGBJC-8ClI"
      },
      "source": [
        "## __Tensors__"
      ]
    },
    {
      "cell_type": "markdown",
      "metadata": {
        "id": "CZbEIx5l8ClI"
      },
      "source": [
        "Одно из основных понятий в PyTorch -- это __Tenosor__. \n",
        "\n",
        "https://pytorch.org/docs/master/tensors.html\n",
        "\n",
        "__Tensor__ -- это такой же массив, как и в __numpy.array__, размерность и тип данных которого мы можем задать. Tensor в отличие от numpy.array может вычисляться на __GPU__."
      ]
    },
    {
      "cell_type": "code",
      "execution_count": 191,
      "metadata": {
        "id": "j8G6X-sE8ClJ"
      },
      "outputs": [],
      "source": [
        "import numpy as np\n",
        "import torch"
      ]
    },
    {
      "cell_type": "code",
      "execution_count": 192,
      "metadata": {
        "id": "xJkq4KTu8ClK"
      },
      "outputs": [],
      "source": [
        "N = 100\n",
        "D_in = 50\n",
        "\n",
        "dtype = torch.float\n",
        "device = torch.device(\"cpu\")\n",
        "# device = torch.device(\"cuda:0\") # Uncomment this to run on GPU\n",
        "\n",
        "x = np.random.randn(N, D_in)\n",
        "x_torch = torch.randn(N, D_in, device=device, dtype=dtype)"
      ]
    },
    {
      "cell_type": "code",
      "execution_count": 193,
      "metadata": {
        "id": "RCXdtQw18ClL",
        "outputId": "41507d8a-9c5f-4b44-ba4c-7ad9b2b38107",
        "colab": {
          "base_uri": "https://localhost:8080/"
        }
      },
      "outputs": [
        {
          "output_type": "execute_result",
          "data": {
            "text/plain": [
              "array([[-1.44234885,  0.02996208, -0.5014054 , ..., -1.30129225,\n",
              "        -2.77603779, -0.00408162],\n",
              "       [-1.14307913,  0.35580002,  0.9708183 , ..., -0.20664065,\n",
              "         0.93505292,  0.63101935],\n",
              "       [-0.44238371,  1.37727251,  1.00153415, ...,  0.22596191,\n",
              "        -0.06585651, -1.2376325 ],\n",
              "       ...,\n",
              "       [ 0.00508039,  2.38676144, -0.30183315, ..., -1.22765818,\n",
              "        -0.71755982,  0.18899253],\n",
              "       [ 1.27644443, -0.4041108 ,  0.29626178, ..., -0.91775934,\n",
              "        -0.51741714,  0.46747758],\n",
              "       [ 1.56362954,  1.83066858, -1.60214323, ..., -1.75677981,\n",
              "        -0.79716393,  0.38252436]])"
            ]
          },
          "metadata": {},
          "execution_count": 193
        }
      ],
      "source": [
        "x"
      ]
    },
    {
      "cell_type": "code",
      "execution_count": 194,
      "metadata": {
        "id": "riWDhJkL8ClM",
        "outputId": "883c18df-9627-44b7-e12e-abaa520a3b12",
        "colab": {
          "base_uri": "https://localhost:8080/"
        }
      },
      "outputs": [
        {
          "output_type": "execute_result",
          "data": {
            "text/plain": [
              "tensor([[-1.2012, -1.2991, -0.1565,  ...,  1.8392,  0.0575, -1.7415],\n",
              "        [-0.3982,  0.5786, -1.5004,  ...,  0.0332, -1.3413,  0.2392],\n",
              "        [ 0.0768,  0.2499, -1.3324,  ...,  0.5359,  0.2112, -1.1233],\n",
              "        ...,\n",
              "        [-0.6314, -0.7497, -2.0368,  ...,  0.3265, -1.1243,  0.3606],\n",
              "        [ 1.0406,  1.2340, -1.1667,  ..., -1.8202,  1.2522, -0.3802],\n",
              "        [-0.3726,  0.4296,  0.8951,  ...,  1.3295, -0.0214,  0.9358]])"
            ]
          },
          "metadata": {},
          "execution_count": 194
        }
      ],
      "source": [
        "x_torch"
      ]
    },
    {
      "cell_type": "code",
      "execution_count": 195,
      "metadata": {
        "id": "u8l_6hzt8ClM",
        "outputId": "f03bded4-4079-4fb2-9c35-a96417ce08e4",
        "colab": {
          "base_uri": "https://localhost:8080/"
        }
      },
      "outputs": [
        {
          "output_type": "execute_result",
          "data": {
            "text/plain": [
              "tensor([[1., 1., 1.,  ..., 1., 1., 1.],\n",
              "        [1., 1., 1.,  ..., 1., 1., 1.],\n",
              "        [1., 1., 1.,  ..., 1., 1., 1.],\n",
              "        ...,\n",
              "        [1., 1., 1.,  ..., 1., 1., 1.],\n",
              "        [1., 1., 1.,  ..., 1., 1., 1.],\n",
              "        [1., 1., 1.,  ..., 1., 1., 1.]])"
            ]
          },
          "metadata": {},
          "execution_count": 195
        }
      ],
      "source": [
        "x_torch = torch.Tensor(np.ones((N, D_in)))\n",
        "x_torch"
      ]
    },
    {
      "cell_type": "code",
      "execution_count": 196,
      "metadata": {
        "id": "0mNnQOPD8ClN",
        "outputId": "777bbc7b-5875-474c-92cc-3e3f5d9ad123",
        "colab": {
          "base_uri": "https://localhost:8080/"
        }
      },
      "outputs": [
        {
          "output_type": "execute_result",
          "data": {
            "text/plain": [
              "tensor([1., 2., 3.])"
            ]
          },
          "metadata": {},
          "execution_count": 196
        }
      ],
      "source": [
        "x_torch = torch.FloatTensor([1, 2, 3])\n",
        "x_torch"
      ]
    },
    {
      "cell_type": "code",
      "execution_count": 197,
      "metadata": {
        "id": "Pmy7Bmh88ClN"
      },
      "outputs": [],
      "source": [
        "x1 = torch.IntTensor([1, 2, 3])\n",
        "x2 = torch.FloatTensor([3, 4, 5])"
      ]
    },
    {
      "cell_type": "markdown",
      "metadata": {
        "id": "jh9wxvgr8ClN"
      },
      "source": [
        "В PyTorch можно найти много операций, которые похожи на то, что есть в numpy :\n",
        "```\n",
        "- torch.add (np.add) -> сложение тензоров (поэлементное)\n",
        "- torch.sub (np.subtract) -> вычитание (поэлементное)\n",
        "- torch.mul (np.multiply) -> умнажение скаляров / матриц (поэлементное)\n",
        "- torch.mm (np.matmul) -> перемножение матриц\n",
        "- torch.ones (np.ones) -> создание тензора из единиц\n",
        "```"
      ]
    },
    {
      "cell_type": "code",
      "execution_count": 198,
      "metadata": {
        "id": "h-LCJEE-8ClO"
      },
      "outputs": [],
      "source": [
        "# Давайте попробуем вышепересчисленные операции"
      ]
    },
    {
      "cell_type": "code",
      "execution_count": 199,
      "metadata": {
        "id": "635wFrKo8ClO"
      },
      "outputs": [],
      "source": [
        "x1 = torch.FloatTensor([[1, 2, 3], [4, 5, 6]])"
      ]
    },
    {
      "cell_type": "code",
      "execution_count": 200,
      "metadata": {
        "id": "bRyexPgA8ClP"
      },
      "outputs": [],
      "source": [
        "x2 = torch.FloatTensor([[7, 8], [9, 1], [2, 3]])"
      ]
    },
    {
      "cell_type": "code",
      "execution_count": 201,
      "metadata": {
        "id": "kmSgryhq8ClP",
        "outputId": "db129254-fd3f-478d-d36b-a6c4b374be77",
        "colab": {
          "base_uri": "https://localhost:8080/"
        }
      },
      "outputs": [
        {
          "output_type": "execute_result",
          "data": {
            "text/plain": [
              "tensor([[31., 19.],\n",
              "        [85., 55.]])"
            ]
          },
          "metadata": {},
          "execution_count": 201
        }
      ],
      "source": [
        "out = torch.mm(x1, x2)\n",
        "out"
      ]
    },
    {
      "cell_type": "markdown",
      "metadata": {
        "id": "Umrtw8sk8ClP"
      },
      "source": [
        "```\n",
        "- torch.reshape (np.reshape) -> изменения порядка элементов в тензоре, не путать с транспонированием.\n",
        "```"
      ]
    },
    {
      "cell_type": "markdown",
      "metadata": {
        "id": "n1qUqRli8ClQ"
      },
      "source": [
        "## Dynamic Computational Graph"
      ]
    },
    {
      "cell_type": "markdown",
      "metadata": {
        "id": "QypMGica8ClQ"
      },
      "source": [
        "После того, как были реализованы архитектура модели и весь процес обучения и валидация сети, при запуске кода в PyTorch происходят следующие этапы:"
      ]
    },
    {
      "cell_type": "markdown",
      "metadata": {
        "id": "9CUiFWUh8ClQ"
      },
      "source": [
        "1. Строится вычислительный граф (направленный ациклический граф), где каждый узел -- это тензор, а ребро, ведущее к дргуому узлу, это выполнение операции над данным тензором, которое ведет к результату - другому тензору."
      ]
    },
    {
      "cell_type": "markdown",
      "metadata": {
        "id": "Jv1zPEXv8ClR"
      },
      "source": [
        "<img src=\"https://beebom.com/wp-content/uploads/2016/07/Tensor-bb-tensor-flowing.jpg\" alt=\"Drawing\" style=\"height: 100px;\"/>"
      ]
    },
    {
      "cell_type": "markdown",
      "metadata": {
        "id": "mKDACh2j8ClR"
      },
      "source": [
        "Реализуем двухслойную сеть для задачи регрессии. И граф для такой архитектуры бдует выглядить следующим образом:"
      ]
    },
    {
      "cell_type": "markdown",
      "metadata": {
        "id": "MbS64mbu8ClR"
      },
      "source": [
        "<img src=\"https://github.com/RiskModellingResearch/RiskManagementDL_Autumn21/blob/main/week03/images/RegGraph.png?raw=1\" alt=\"Drawing\" />"
      ]
    },
    {
      "cell_type": "code",
      "execution_count": 256,
      "metadata": {
        "id": "ZsAOdlmu8ClS"
      },
      "outputs": [],
      "source": [
        "batch_size = 64\n",
        "input_size = 1\n",
        "hidden_size = 10\n",
        "output_size = 1"
      ]
    },
    {
      "cell_type": "code",
      "source": [
        "x = np.arange(-10, 10, 0.01).reshape(-1, 1)\n",
        "y = x**2 * np.sin(x).reshape(-1, 1)\n",
        "batch_size = 2000"
      ],
      "metadata": {
        "id": "YatxJlSN1pGW"
      },
      "execution_count": 304,
      "outputs": []
    },
    {
      "cell_type": "code",
      "source": [
        "x = torch.FloatTensor(x)\n",
        "y = torch.FloatTensor(y)"
      ],
      "metadata": {
        "id": "a81qO3ZH14ib"
      },
      "execution_count": 305,
      "outputs": []
    },
    {
      "cell_type": "code",
      "source": [
        "# Create random input and output data\n",
        "x = torch.randn(batch_size, input_size, device=device, dtype=dtype)\n",
        "y = torch.randn(batch_size, output_size, device=device, dtype=dtype)"
      ],
      "metadata": {
        "id": "TZhlyx833krv"
      },
      "execution_count": 258,
      "outputs": []
    },
    {
      "cell_type": "code",
      "source": [
        "# Randomly initialize weights\n",
        "w0 = torch.randn(1, batch_size, device=device, dtype=dtype)\n",
        "w1 = torch.randn(input_size, hidden_size, device=device, dtype=dtype)\n",
        "w2 = torch.randn(hidden_size, output_size, device=device, dtype=dtype)"
      ],
      "metadata": {
        "id": "wOpy4gLKwTSf"
      },
      "execution_count": 306,
      "outputs": []
    },
    {
      "cell_type": "code",
      "execution_count": 307,
      "metadata": {
        "id": "faZTQM_88ClS"
      },
      "outputs": [],
      "source": [
        "learning_rate = 1e-6\n",
        "relu = torch.nn.ReLU()\n",
        "for t in range(500):\n",
        "    # Forward pass: compute predicted y\n",
        "    #TODO\n",
        "    y_pred = torch.mm(relu(torch.add(w0.T, torch.mm(x,w1))), w2)\n",
        "    #y_pred = torch.mm(relu(torch.mm(x,w1)), w2)\n",
        "\n",
        "    # Compute and print loss\n",
        "    loss = (y_pred - y).pow(2).mean().item()"
      ]
    },
    {
      "cell_type": "code",
      "source": [
        "loss"
      ],
      "metadata": {
        "id": "iuc2yBj92P39",
        "outputId": "88b18789-c1b1-41b5-b576-091af4b2eb79",
        "colab": {
          "base_uri": "https://localhost:8080/"
        }
      },
      "execution_count": 308,
      "outputs": [
        {
          "output_type": "execute_result",
          "data": {
            "text/plain": [
              "683.5848388671875"
            ]
          },
          "metadata": {},
          "execution_count": 308
        }
      ]
    },
    {
      "cell_type": "code",
      "source": [
        "import matplotlib.pyplot as plt\n",
        "plt.scatter(x, y)\n",
        "plt.scatter(x, y_pred)"
      ],
      "metadata": {
        "id": "rMsLfP4K4d6m",
        "outputId": "15c397e0-e160-4ba3-efa5-d22c15bbc457",
        "colab": {
          "base_uri": "https://localhost:8080/",
          "height": 282
        }
      },
      "execution_count": 309,
      "outputs": [
        {
          "output_type": "execute_result",
          "data": {
            "text/plain": [
              "<matplotlib.collections.PathCollection at 0x7f3145472f10>"
            ]
          },
          "metadata": {},
          "execution_count": 309
        },
        {
          "output_type": "display_data",
          "data": {
            "text/plain": [
              "<Figure size 432x288 with 1 Axes>"
            ],
            "image/png": "[encoded data removed]"
          },
          "metadata": {
            "needs_background": "light"
          }
        }
      ]
    },
    {
      "cell_type": "markdown",
      "metadata": {
        "id": "uW9WDm_E8ClS"
      },
      "source": [
        "## Autograd"
      ]
    },
    {
      "cell_type": "markdown",
      "metadata": {
        "id": "aN_meyF98ClT"
      },
      "source": [
        "2. Еще одно фундаментальное понятие и важный элемент при построении графа -- это __Autograd__ -- автоматическое дифференцирование.\n",
        "\n",
        "Для того чтобы с помощью стохастического градиентного спуска обновить обучаемые параметры сети, нужно посчитать градиенты. И как известно, обновление весов, которые учавтсвуют в нескольких операциях, происходит по `правилу дифференцирования сложной функции` (цепное правило или __chain rule__)."
      ]
    },
    {
      "cell_type": "markdown",
      "metadata": {
        "id": "4VnCM-Oa8ClT"
      },
      "source": [
        "<img src=\"https://github.com/RiskModellingResearch/RiskManagementDL_Autumn21/blob/main/week03/images/RegChainRule.png?raw=1\" alt=\"Drawing\" />"
      ]
    },
    {
      "cell_type": "markdown",
      "metadata": {
        "id": "KGJ4wCRx8ClT"
      },
      "source": [
        "То есть (1) вычислительный граф позволяет определить последовательность операций, а (2) автоматическое дифференцирование посчитать нужные градиенты."
      ]
    },
    {
      "cell_type": "markdown",
      "metadata": {
        "id": "T3Ug6FWN8ClT"
      },
      "source": [
        "Если бы `Autograd` не было, то тогда backprop надо было бы реализовывать самим, и как это бы выглядело?"
      ]
    },
    {
      "cell_type": "markdown",
      "metadata": {
        "id": "8VaGBLIs8ClU"
      },
      "source": [
        "Рассмотрим на примере, как посчиать градиенты для весов из входного слоя, где входной вектора `X` состоит из 3-х компонент. А входной слой вторую размерность имеет равной 2. \n",
        "\n",
        "После чего это идет в `ReLU`, но для простоты опустим на время ее, и посмотрим как дальше это идет по сети.\n",
        "\n",
        "Ниже написано, как это все вычисляется и приводит нас к значению целевой функции для одного наблюдения"
      ]
    },
    {
      "cell_type": "markdown",
      "metadata": {
        "id": "NIv63-ku8ClU"
      },
      "source": [
        "<img src=\"https://github.com/RiskModellingResearch/RiskManagementDL_Autumn21/blob/main/week03/images/1.png?raw=1\" alt=\"1\" style=\"width: 600px;\"/>"
      ]
    },
    {
      "cell_type": "markdown",
      "metadata": {
        "id": "Ul7cuxof8ClU"
      },
      "source": [
        "Тогда, чтобы посчитать градиент по первому элементу из обучаемой матрицы на первом слое, необходимо взять производоную у сложной функции. А этот как раз делается по `chain rule`: сначала берем у внешней, потом спускаемся на уровень ниже, и так пока не додйдем до то функции, после которой эта перменная уже нигде не участвует:"
      ]
    },
    {
      "cell_type": "markdown",
      "metadata": {
        "id": "R0JIIjF38ClU"
      },
      "source": [
        "<img src=\"https://github.com/RiskModellingResearch/RiskManagementDL_Autumn21/blob/main/week03/images/2.png?raw=1\" alt=\"2\" style=\"width: 400px;\"/>"
      ]
    },
    {
      "cell_type": "markdown",
      "metadata": {
        "id": "kQ8cNAha8ClV"
      },
      "source": [
        "Перепишем это все в матричном виде, то есть сделаем аналог вида матрицы весов из первого слоя, но там уже будут её градиенты, котоыре будут нужны чтобы как раз обновить эти веса:"
      ]
    },
    {
      "cell_type": "markdown",
      "metadata": {
        "id": "ialkoSLa8ClV"
      },
      "source": [
        "<img src=\"https://github.com/RiskModellingResearch/RiskManagementDL_Autumn21/blob/main/week03/images/3.jpg?raw=1\" alt=\"3\" style=\"width: 600px;\"/>"
      ]
    },
    {
      "cell_type": "markdown",
      "metadata": {
        "id": "Rj3pMHev8ClV"
      },
      "source": [
        "Как видно, здесь можно вектор X вынести, то есть разделить на две матрицы:"
      ]
    },
    {
      "cell_type": "markdown",
      "metadata": {
        "id": "nE7Kk3DE8ClW"
      },
      "source": [
        "<img src=\"https://github.com/RiskModellingResearch/RiskManagementDL_Autumn21/blob/main/week03/images/4.jpg?raw=1\" alt=\"4\" style=\"width: 500px;\"/>"
      ]
    },
    {
      "cell_type": "markdown",
      "metadata": {
        "id": "QoaDcDSW8ClW"
      },
      "source": [
        "То есть уже видно, что будем траспонировать входной вектор(матрицу). Но надо понимать, что в реальности у нас не одно наблюдение в батче, а несколько, тогда запись немного изменит свой вид:"
      ]
    },
    {
      "cell_type": "markdown",
      "metadata": {
        "id": "blD7WHmc8ClW"
      },
      "source": [
        "<img src=\"https://github.com/RiskModellingResearch/RiskManagementDL_Autumn21/blob/main/week03/images/5.jpg?raw=1\" alt=\"5\" style=\"width: 500px;\"/>"
      ]
    },
    {
      "cell_type": "markdown",
      "metadata": {
        "id": "Zf39da5e8ClW"
      },
      "source": [
        "Теперь мы видим, как на самом деле вычисляется вот те самые частные производные для вектора X, то есть видно, как математически это можно записать, а именно:"
      ]
    },
    {
      "cell_type": "markdown",
      "metadata": {
        "id": "98O85uqK8ClW"
      },
      "source": [
        "<img src=\"https://github.com/RiskModellingResearch/RiskManagementDL_Autumn21/blob/main/week03/images/6.jpg?raw=1\" alt=\"6\" style=\"width: 500px;\"/>"
      ]
    },
    {
      "cell_type": "markdown",
      "metadata": {
        "id": "J-ojTrVl8ClX"
      },
      "source": [
        "<img src=\"https://github.com/RiskModellingResearch/RiskManagementDL_Autumn21/blob/main/week03/images/7.jpg?raw=1\" alt=\"7\" style=\"width: 500px;\"/>"
      ]
    },
    {
      "cell_type": "markdown",
      "metadata": {
        "id": "HBUSFfGK8ClX"
      },
      "source": [
        "Уже можно реализовать. Понятно, что транспонируется, что нет, и что на что умножается."
      ]
    },
    {
      "cell_type": "markdown",
      "metadata": {
        "id": "sAi49OYS8ClX"
      },
      "source": [
        "Но помним про ReLU. Для простоты опустили, но теперь её учесть будет легче. \n",
        "\n",
        "Так как после первого слоя идет ReLU, а значит, занулились те выходы первого слоя, которые были __меньше__ нуля. Получается, что во второй слой не все дошло, тогда нужно обнулить, что занулил ReLU. \n",
        "\n",
        "Что занулил ReLU, мы можем выяснить при `forward pass`, а где именно поставить нули, то надо уже смотреть относительно `backward propagation`, на том выходе, где последний раз участвовал выход после ReLU, то есть:"
      ]
    },
    {
      "cell_type": "markdown",
      "metadata": {
        "id": "-e3SkVv_8ClY"
      },
      "source": [
        "<img src=\"https://github.com/RiskModellingResearch/RiskManagementDL_Autumn21/blob/main/week03/images/8.jpg?raw=1\" alt=\"8\" style=\"width: 600px;\"/>"
      ]
    },
    {
      "cell_type": "markdown",
      "metadata": {
        "id": "vfilI_6g8ClY"
      },
      "source": [
        "Теперь реализуем эти формулы на PyTorch:"
      ]
    },
    {
      "cell_type": "code",
      "source": [
        "w0 = torch.randn(1, batch_size, device=device, dtype=dtype)\n",
        "w1 = torch.randn(input_size, hidden_size, device=device, dtype=dtype)\n",
        "w2 = torch.randn(hidden_size, output_size, device=device, dtype=dtype)"
      ],
      "metadata": {
        "id": "i_FCuGahjfok"
      },
      "execution_count": 364,
      "outputs": []
    },
    {
      "cell_type": "code",
      "source": [
        "# WITH BIAS\n",
        "learning_rate = 1e-6\n",
        "for t in range(200000):\n",
        "    h1 = w0.T.add(x.mm(w1))\n",
        "    h_relu = torch.relu(h1)\n",
        "    y_pred = h_relu.mm(w2)\n",
        "\n",
        "    loss = (y_pred - y).pow(2).sum()\n",
        "    if t % 10000 == 0:\n",
        "      print(t, loss.item())\n",
        "    \n",
        "    # Теперь подсчет градиентов для весов происходит при вызове backward\n",
        "    \n",
        "    dypred_dw2 = torch.mm(x,w1)\n",
        "    dypred_dw2[h_relu == 0] = 0\n",
        "    grad_w2 = torch.mm(dypred_dw2.T, (2*(y_pred - y)))\n",
        "    \n",
        "    dypred_dw1 = torch.mm((2*(y_pred - y)), w2.T)\n",
        "    dypred_dw1[h_relu == 0] = 0\n",
        "    grad_w1 = torch.mm(x.T, dypred_dw1)\n",
        "    \n",
        "    dypred_dw0 = torch.mm((2*(y_pred - y)), w2.T)\n",
        "    dypred_dw0[h_relu == 0] = 0\n",
        "    grad_w0 = torch.mm(torch.ones(1, hidden_size), dypred_dw0.T)\n",
        "\n",
        "    w1 -= learning_rate * grad_w1\n",
        "    w2 -= learning_rate * grad_w2\n",
        "    w0 -= learning_rate * grad_w0"
      ],
      "metadata": {
        "id": "LDj61lTCr7e3",
        "outputId": "dc49b28b-a8d8-447f-8e32-aafe622b6ec3",
        "colab": {
          "base_uri": "https://localhost:8080/"
        }
      },
      "execution_count": 365,
      "outputs": [
        {
          "output_type": "stream",
          "name": "stdout",
          "text": [
            "0 2592298.75\n",
            "10000 966593.0625\n",
            "20000 857978.875\n",
            "30000 741517.0\n",
            "40000 627332.625\n",
            "50000 527360.625\n",
            "60000 441048.40625\n",
            "70000 380609.1875\n",
            "80000 458628.46875\n",
            "90000 328930.3125\n",
            "100000 195795.25\n",
            "110000 239188.84375\n",
            "120000 571204.1875\n",
            "130000 614434.0625\n",
            "140000 298618.125\n",
            "150000 308657.5625\n",
            "160000 533074.125\n",
            "170000 315111.5625\n",
            "180000 314551.09375\n",
            "190000 292917.0\n"
          ]
        }
      ]
    },
    {
      "cell_type": "code",
      "source": [
        "plt.scatter(x, y)\n",
        "plt.scatter(x, y_pred.detach().numpy())"
      ],
      "metadata": {
        "id": "YfJBNuzdx7v5",
        "outputId": "fa9391bd-8781-4786-81d7-e095deca5bed",
        "colab": {
          "base_uri": "https://localhost:8080/",
          "height": 282
        }
      },
      "execution_count": 367,
      "outputs": [
        {
          "output_type": "execute_result",
          "data": {
            "text/plain": [
              "<matplotlib.collections.PathCollection at 0x7f31456e7e50>"
            ]
          },
          "metadata": {},
          "execution_count": 367
        },
        {
          "output_type": "display_data",
          "data": {
            "text/plain": [
              "<Figure size 432x288 with 1 Axes>"
            ],
            "image/png": "[encoded data removed]"
          },
          "metadata": {
            "needs_background": "light"
          }
        }
      ]
    },
    {
      "cell_type": "code",
      "source": [
        "w1 = torch.randn(input_size, hidden_size, device=device, dtype=dtype)\n",
        "w2 = torch.randn(hidden_size, output_size, device=device, dtype=dtype)"
      ],
      "metadata": {
        "id": "shesjkIa3n0N"
      },
      "execution_count": 375,
      "outputs": []
    },
    {
      "cell_type": "code",
      "source": [
        "# WITHOUT BIAS\n",
        "learning_rate = 1e-6\n",
        "for t in range(50000):\n",
        "    h1 = x.mm(w1)\n",
        "\n",
        "    h_relu = torch.relu(h1)\n",
        "    y_pred = h_relu.mm(w2)\n",
        "\n",
        "    loss = (y_pred - y).pow(2).sum()\n",
        "    if t % 10000 == 0:\n",
        "      print(t, loss.item())\n",
        "    \n",
        "    # Теперь подсчет градиентов для весов происходит при вызове backward\n",
        "    \n",
        "    dl_dypred = torch.mm((2*(y_pred - y)), w2.T)\n",
        "\n",
        "    grad_w2 = torch.mm(relu(torch.mm(x,w1)).T, (2*(y_pred - y)))\n",
        "    dl_dypred = torch.mm((2*(y_pred - y)), w2.T)\n",
        "    dl_dypred[h_relu == 0] = 0\n",
        "    grad_w1 = torch.mm(x.T, dl_dypred)\n",
        "\n",
        "    w1 -= learning_rate * grad_w1\n",
        "    w2 -= learning_rate * grad_w2"
      ],
      "metadata": {
        "id": "hsJPIkDBgqNi",
        "outputId": "548f5a02-5ad5-4d08-97eb-baa97b2ce603",
        "colab": {
          "base_uri": "https://localhost:8080/"
        }
      },
      "execution_count": 376,
      "outputs": [
        {
          "output_type": "stream",
          "name": "stdout",
          "text": [
            "0 1543076.75\n",
            "10000 1279750.25\n",
            "20000 1279750.25\n",
            "30000 1279750.25\n",
            "40000 1279750.25\n"
          ]
        }
      ]
    },
    {
      "cell_type": "code",
      "source": [
        "plt.scatter(x, y)\n",
        "plt.scatter(x, y_pred)"
      ],
      "metadata": {
        "id": "Gv18I8gTagwq",
        "outputId": "959d9a7e-3c64-44cf-943a-f7c779d3cf70",
        "colab": {
          "base_uri": "https://localhost:8080/",
          "height": 282
        }
      },
      "execution_count": 377,
      "outputs": [
        {
          "output_type": "execute_result",
          "data": {
            "text/plain": [
              "<matplotlib.collections.PathCollection at 0x7f3144bef750>"
            ]
          },
          "metadata": {},
          "execution_count": 377
        },
        {
          "output_type": "display_data",
          "data": {
            "text/plain": [
              "<Figure size 432x288 with 1 Axes>"
            ],
            "image/png": "[encoded data removed]"
          },
          "metadata": {
            "needs_background": "light"
          }
        }
      ]
    },
    {
      "cell_type": "markdown",
      "metadata": {
        "id": "DvOLsPPN8ClZ"
      },
      "source": [
        "Благодаря `Autograd` реализацию `chain rule` можно избежать, так как для более сложных нейронных сетей вручную такое реализовать сложно, при этом сделать это эффективным."
      ]
    },
    {
      "cell_type": "markdown",
      "metadata": {
        "id": "qO7tcOZ08ClZ"
      },
      "source": [
        "Для того чтобы PyTorch понял, за какими переменными надо \"следить\", то есть указать, что именно \"эти\" переменные являются обучаемыми, необходимо при создании тензора в качестве аттрибута указать __requires_grad=True__:"
      ]
    },
    {
      "cell_type": "code",
      "execution_count": 378,
      "metadata": {
        "id": "n8daocyc8ClZ"
      },
      "outputs": [],
      "source": [
        "w0 = torch.randn(1, batch_size, device=device, dtype=dtype, requires_grad=True)\n",
        "w1 = torch.randn(input_size, hidden_size, device=device, dtype=dtype, requires_grad=True)\n",
        "w2 = torch.randn(hidden_size, output_size, device=device, dtype=dtype, requires_grad=True)"
      ]
    },
    {
      "cell_type": "code",
      "execution_count": 369,
      "metadata": {
        "id": "qC-ObxKC8Cla",
        "outputId": "8e3eb78f-c991-45b6-bd1b-4ca6f5d7e86f",
        "colab": {
          "base_uri": "https://localhost:8080/"
        }
      },
      "outputs": [
        {
          "output_type": "stream",
          "name": "stdout",
          "text": [
            "0 1634507.25\n",
            "10000 674062.75\n",
            "20000 3181695.0\n",
            "30000 411230.59375\n",
            "40000 392144.53125\n",
            "50000 173478.46875\n",
            "60000 152602.578125\n",
            "70000 153538.640625\n",
            "80000 192484.96875\n",
            "90000 246711.296875\n",
            "100000 251423.96875\n",
            "110000 233610.71875\n",
            "120000 269995.75\n",
            "130000 262694.09375\n",
            "140000 300853.125\n",
            "150000 316245.25\n",
            "160000 247599.9375\n",
            "170000 251083.890625\n",
            "180000 250551.484375\n",
            "190000 283628.75\n"
          ]
        }
      ],
      "source": [
        "learning_rate = 1e-6\n",
        "for t in range(200000):\n",
        "    h1 = w0.T.add(x.mm(w1))\n",
        "    h_relu = torch.relu(h1)\n",
        "    y_pred = h_relu.mm(w2)\n",
        "\n",
        "    loss = (y_pred - y).pow(2).sum()\n",
        "    if t % 10000 == 0:\n",
        "      print(t, loss.item())\n",
        "    \n",
        "    # Теперь подсчет градиентов для весов происходит при вызове backward\n",
        "    loss.backward()\n",
        "   \n",
        "    # Обновляем значение весов, но укзаываем, чтобы PyTorch не считал эту операцию, \n",
        "    # которая бы учавствовала бы при подсчете градиентов в chain rule\n",
        "    with torch.no_grad():\n",
        "        w1 -= learning_rate * w1.grad\n",
        "        w2 -= learning_rate * w2.grad\n",
        "        w0 -= learning_rate * w0.grad\n",
        "        \n",
        "        # Теперь обнуляем значение градиентов, чтобы на следующем шаге \n",
        "        # они не учитывались при подсчете новых градиентов,\n",
        "        # иначе произойдет суммирвоание старых и новых градиентов\n",
        "        w1.grad.zero_()\n",
        "        w2.grad.zero_()\n",
        "        w0.grad.zero_()"
      ]
    },
    {
      "cell_type": "code",
      "source": [
        "plt.scatter(x, y)\n",
        "plt.scatter(x, y_pred.detach().numpy())"
      ],
      "metadata": {
        "id": "49M54dyM5R4B",
        "outputId": "508195fd-7658-4589-d8c9-c3e074ffa29b",
        "colab": {
          "base_uri": "https://localhost:8080/",
          "height": 282
        }
      },
      "execution_count": 370,
      "outputs": [
        {
          "output_type": "execute_result",
          "data": {
            "text/plain": [
              "<matplotlib.collections.PathCollection at 0x7f31452c5410>"
            ]
          },
          "metadata": {},
          "execution_count": 370
        },
        {
          "output_type": "display_data",
          "data": {
            "text/plain": [
              "<Figure size 432x288 with 1 Axes>"
            ],
            "image/png": "[encoded data removed]"
          },
          "metadata": {
            "needs_background": "light"
          }
        }
      ]
    },
    {
      "cell_type": "markdown",
      "source": [],
      "metadata": {
        "id": "Wm46pvSW7Mn3"
      }
    },
    {
      "cell_type": "markdown",
      "metadata": {
        "id": "YmIXhT-_8Cla"
      },
      "source": [
        "Осталось еще не вручную обновлять веса, а использовать адаптивные методы градинетного спсука. Для этого нужно использовать модуль __optim__. А помимо оптимайзера, еще можно использовать готовые целевые функции из модлуя __nn__."
      ]
    },
    {
      "cell_type": "code",
      "source": [
        "w0 = torch.randn(1, batch_size, device=device, dtype=dtype, requires_grad=True)\n",
        "w1 = torch.randn(input_size, hidden_size, device=device, dtype=dtype, requires_grad=True)\n",
        "w2 = torch.randn(hidden_size, output_size, device=device, dtype=dtype, requires_grad=True)"
      ],
      "metadata": {
        "id": "jpNLgJZ27S2f"
      },
      "execution_count": 395,
      "outputs": []
    },
    {
      "cell_type": "code",
      "execution_count": 396,
      "metadata": {
        "id": "MTmQdSx58Clb",
        "outputId": "98bbf5a5-320c-40b0-bc06-5ecb7cebbf94",
        "colab": {
          "base_uri": "https://localhost:8080/"
        }
      },
      "outputs": [
        {
          "output_type": "stream",
          "name": "stdout",
          "text": [
            "0 711.8270874023438\n",
            "10000 552.2141723632812\n",
            "20000 552.214111328125\n",
            "30000 552.2145385742188\n",
            "40000 552.2142333984375\n",
            "50000 552.2163696289062\n",
            "60000 552.2139282226562\n",
            "70000 54.41628646850586\n",
            "80000 53.90192794799805\n",
            "90000 53.901939392089844\n"
          ]
        }
      ],
      "source": [
        "import torch.optim as optim\n",
        "\n",
        "loss_fn = torch.nn.MSELoss(reduction='mean')\n",
        "\n",
        "learning_rate = 1e-2\n",
        "optimizer = torch.optim.Adam([w0, w1, w2], lr=learning_rate)\n",
        "\n",
        "for t in range(100000):\n",
        "    optimizer.zero_grad()\n",
        "    \n",
        "    h1 = w0.T.add(x.mm(w1))\n",
        "    #h1 = x.mm(w1)\n",
        "\n",
        "    h_relu = torch.relu(h1)\n",
        "    y_pred = h_relu.mm(w2)\n",
        "    \n",
        "    loss = loss_fn(y_pred, y)\n",
        "    if t % 10000 == 0:\n",
        "        print(t, loss.item())\n",
        "    \n",
        "    loss.backward()\n",
        "   \n",
        "    optimizer.step()"
      ]
    },
    {
      "cell_type": "code",
      "source": [
        "plt.scatter(x, y)\n",
        "plt.scatter(x, y_pred.detach().numpy())"
      ],
      "metadata": {
        "id": "8sI1gzww6qZU",
        "outputId": "0ac2247d-cc0a-418b-a4fc-0f188f5562d9",
        "colab": {
          "base_uri": "https://localhost:8080/",
          "height": 282
        }
      },
      "execution_count": 397,
      "outputs": [
        {
          "output_type": "execute_result",
          "data": {
            "text/plain": [
              "<matplotlib.collections.PathCollection at 0x7f3144a54790>"
            ]
          },
          "metadata": {},
          "execution_count": 397
        },
        {
          "output_type": "display_data",
          "data": {
            "text/plain": [
              "<Figure size 432x288 with 1 Axes>"
            ],
            "image/png": "[encoded data removed]"
          },
          "metadata": {
            "needs_background": "light"
          }
        }
      ]
    },
    {
      "cell_type": "markdown",
      "metadata": {
        "id": "SbTcQyM18Clb"
      },
      "source": [
        "После того, как мы сделали backward, в этот момент посчитались градиенты и граф уничтожился, то есть стёрлись все пути, которые связывали тензоры между собой. Это значит, что еще раз backward сделать не поулчится, будет ошибка. Но если вдруг нужно считать градиенты еще раз, то нужно при вызове backward задать `retain_graph=True`."
      ]
    },
    {
      "cell_type": "markdown",
      "metadata": {
        "id": "rx6pezea8Clb"
      },
      "source": [
        "Еще важный аттрибут, который есть у Tensor -- это `grad_fn`. В этом аттрибуте указывается та функция, посредством которой был создан этот тензор. Так PyTorch понимает, как именно считать по нему градиент."
      ]
    },
    {
      "cell_type": "code",
      "execution_count": 276,
      "metadata": {
        "id": "G9pH7Ecp8Clc",
        "outputId": "28c828b8-0e76-45d3-be75-90bbe03971f9",
        "colab": {
          "base_uri": "https://localhost:8080/"
        }
      },
      "outputs": [
        {
          "output_type": "execute_result",
          "data": {
            "text/plain": [
              "<MmBackward0 at 0x7f314560ce50>"
            ]
          },
          "metadata": {},
          "execution_count": 276
        }
      ],
      "source": [
        "y_pred.grad_fn"
      ]
    },
    {
      "cell_type": "markdown",
      "metadata": {
        "id": "K7_I3SjG8Clc"
      },
      "source": [
        "Также можно контролировать, должны ли градиенты течь или нет."
      ]
    },
    {
      "cell_type": "code",
      "source": [
        "x = torch.tensor([1], requires_grad=True)\n",
        "with torch.no_grad():\n",
        "    with torch.enable_grad():\n",
        "        y = x * 2\n",
        "y.requires_grad"
      ],
      "metadata": {
        "id": "noTSGYI4wCt5"
      },
      "execution_count": null,
      "outputs": []
    },
    {
      "cell_type": "markdown",
      "metadata": {
        "id": "omDzgeyO8Clc"
      },
      "source": [
        "## Почему Backprop надо понимать"
      ]
    },
    {
      "cell_type": "markdown",
      "metadata": {
        "id": "adwmiNE-8Cld"
      },
      "source": [
        "1. Backprop позволяет понимать, как те или иные операции, сложные конструкции в сети влияют на обнолвение весов.\n",
        "Почему лучше сделать конкатенацию тензоров, а не поэлементное сложение. Для этого нужно посмотреть на backprop, как будут обновляться веса.\n",
        "\n",
        "2. Даже на таком маленьком пример двуслойной MLP можно уже увидеть, когда `ReLU`, как функция активация, не очень хорошо применять. Если разреженные данные, то получить на выходе много нулей вероятнее, чем при использовании `LeakyReLU`, то есть градиенты будут нулевыми и веса никак не будут обновляться => сеть не обучается!\n",
        "\n",
        "3. В архитектуре могут встречаться недифференцируемые операции, и первое - это нужно понять, потому что при обучении сети это может быть не сразу заметно, просто качество модели будет плохое, и точность хорошую не поулчится достичь.\n",
        "\n",
        "Например, в одной из статей было предложено в качестве механизма внимания применить распределение Бернулли, которое умножается на выход промежуточного слоя сети. И эта опреация недифференцируема, нужно реализовывать backprop самим, тем самым обеспечить корректное протекание градиентов.\n"
      ]
    },
    {
      "cell_type": "markdown",
      "metadata": {
        "id": "_84tINVx8Cld"
      },
      "source": [
        "<img src=\"https://github.com/RiskModellingResearch/RiskManagementDL_Autumn21/blob/main/week03/images/Bernoulli.png?raw=1\" alt=\"8\" style=\"width: 600px;\"/>"
      ]
    },
    {
      "cell_type": "markdown",
      "metadata": {
        "id": "TzGzUhSb8Cld"
      },
      "source": [
        "Так же любая статья, которая предлагет новую целевую функцию для той или иной задачи, там всегда будут представлены градиенты, чтобы было понимание, как это влияет на обновление весов. Не просто так !"
      ]
    },
    {
      "cell_type": "markdown",
      "metadata": {
        "id": "oszfcWtL8Cld"
      },
      "source": [
        "<img src=\"https://github.com/RiskModellingResearch/RiskManagementDL_Autumn21/blob/main/week03/images/BernoulliBackProp.png?raw=1\" alt=\"8\" style=\"width: 600px;\"/>"
      ]
    },
    {
      "cell_type": "markdown",
      "metadata": {
        "id": "OLM09kk48Cld"
      },
      "source": [
        "## nn.Module"
      ]
    },
    {
      "cell_type": "markdown",
      "metadata": {
        "id": "QLhkxcgw8Cle"
      },
      "source": [
        "В предыдущем примере архитектуру сети создавали используя последовательной способ объявления слоев сети -- `nn.Sequential`.\n",
        "\n",
        "Но еще можно это сделать более гибким подходом:"
      ]
    },
    {
      "cell_type": "code",
      "execution_count": 401,
      "metadata": {
        "id": "1sj9YuGl8Cle"
      },
      "outputs": [],
      "source": [
        "from torch import nn\n",
        "class TwoLayerNet(nn.Module):\n",
        "    def __init__(self, input_size, hidden_size, output_size):\n",
        "        \"\"\"\n",
        "        TwoLayerNet наследуется от nn.Module и тем самым полчаем возможность\n",
        "        переопределять методы класса.\n",
        "        В конструктуре создаем слои (обучаемые веса) и другие нужные перменные/функции,\n",
        "        которые нужны для модели\n",
        "        \"\"\"\n",
        "        super(TwoLayerNet, self).__init__()\n",
        "        self.linear1 = torch.nn.Linear(input_size, hidden_size, bias=True)\n",
        "        self.linear2 = torch.nn.Linear(hidden_size, output_size, bias=True)\n",
        "\n",
        "    def forward(self, x):\n",
        "        \"\"\"\n",
        "        Метод forward отвечает за прямое распростронение модели, \n",
        "        поэтому данный метод нужно переопределять обязательно, \n",
        "        чтобы задать логику прямого распростронения. \n",
        "        Именно в этот момент начинает строится динамический граф\n",
        "        \"\"\"\n",
        "        h_relu = torch.relu(self.linear1(x))\n",
        "        y_pred = self.linear2(h_relu)\n",
        "        \n",
        "        return y_pred"
      ]
    },
    {
      "cell_type": "code",
      "execution_count": 402,
      "metadata": {
        "id": "YOfk1W2f8Cle",
        "outputId": "9e9ee72b-31d6-4c4b-80cb-33bb1b8c2b20",
        "colab": {
          "base_uri": "https://localhost:8080/"
        }
      },
      "outputs": [
        {
          "output_type": "stream",
          "name": "stdout",
          "text": [
            "0 767.235595703125\n",
            "1000 640.7109985351562\n",
            "2000 638.4122314453125\n",
            "3000 635.95654296875\n",
            "4000 633.0823364257812\n",
            "5000 629.4408569335938\n",
            "6000 624.8885498046875\n",
            "7000 619.527587890625\n",
            "8000 613.3716430664062\n",
            "9000 606.3350830078125\n",
            "10000 598.0118408203125\n",
            "11000 589.6339721679688\n",
            "12000 581.2540283203125\n",
            "13000 574.2135620117188\n",
            "14000 568.3668212890625\n",
            "15000 562.5826416015625\n",
            "16000 558.6602783203125\n",
            "17000 556.2744750976562\n",
            "18000 554.6126098632812\n",
            "19000 553.3350830078125\n",
            "20000 552.2630615234375\n",
            "21000 551.3146362304688\n",
            "22000 550.4555053710938\n",
            "23000 549.666259765625\n",
            "24000 548.9262084960938\n",
            "25000 548.2086181640625\n",
            "26000 547.4854125976562\n",
            "27000 546.7265625\n",
            "28000 545.9070434570312\n",
            "29000 545.0010375976562\n",
            "30000 543.9857788085938\n",
            "31000 542.8389892578125\n",
            "32000 541.5392456054688\n",
            "33000 540.0645141601562\n",
            "34000 538.3917236328125\n",
            "35000 536.4981079101562\n",
            "36000 534.3604125976562\n",
            "37000 531.9539794921875\n",
            "38000 529.25439453125\n",
            "39000 526.2392578125\n",
            "40000 522.8861694335938\n",
            "41000 519.17529296875\n",
            "42000 515.0901489257812\n",
            "43000 510.6184997558594\n",
            "44000 505.75323486328125\n",
            "45000 500.4933166503906\n",
            "46000 494.8427734375\n",
            "47000 488.8160705566406\n",
            "48000 482.4337158203125\n",
            "49000 475.72149658203125\n",
            "50000 468.7161560058594\n",
            "51000 461.45953369140625\n",
            "52000 453.9969177246094\n",
            "53000 446.3828125\n",
            "54000 438.66888427734375\n",
            "55000 430.9124755859375\n",
            "56000 423.17071533203125\n",
            "57000 415.49468994140625\n",
            "58000 407.939697265625\n",
            "59000 400.54901123046875\n",
            "60000 393.3707580566406\n",
            "61000 386.43487548828125\n",
            "62000 379.77874755859375\n",
            "63000 373.42059326171875\n",
            "64000 367.3845520019531\n",
            "65000 361.6791076660156\n",
            "66000 356.31243896484375\n",
            "67000 351.28662109375\n",
            "68000 346.5998840332031\n",
            "69000 342.24603271484375\n",
            "70000 338.21392822265625\n",
            "71000 334.49432373046875\n",
            "72000 331.07244873046875\n",
            "73000 327.9331359863281\n",
            "74000 325.0613098144531\n",
            "75000 322.4398193359375\n",
            "76000 320.0525207519531\n",
            "77000 317.88323974609375\n",
            "78000 315.9149475097656\n",
            "79000 314.1326599121094\n",
            "80000 312.5213317871094\n",
            "81000 311.06591796875\n",
            "82000 309.750244140625\n",
            "83000 308.5585021972656\n",
            "84000 307.4794921875\n",
            "85000 306.5018310546875\n",
            "86000 305.6159362792969\n",
            "87000 304.8122863769531\n",
            "88000 304.0823669433594\n",
            "89000 303.419189453125\n",
            "90000 302.816162109375\n",
            "91000 302.2671813964844\n",
            "92000 301.76715087890625\n",
            "93000 301.31134033203125\n",
            "94000 300.89544677734375\n",
            "95000 300.5152893066406\n",
            "96000 300.1684875488281\n",
            "97000 299.8512268066406\n",
            "98000 299.5606689453125\n",
            "99000 299.29486083984375\n"
          ]
        }
      ],
      "source": [
        "batch_size = 64\n",
        "input_size = 1\n",
        "hidden_size = 10\n",
        "output_size = 1\n",
        "\n",
        "# x = torch.randn(batch_size, input_size, device=device, dtype=dtype)\n",
        "# y = torch.randn(batch_size, output_size, device=device, dtype=dtype)\n",
        "\n",
        "model = TwoLayerNet(input_size, hidden_size, output_size)\n",
        "\n",
        "loss_fn = torch.nn.MSELoss(reduction='mean')\n",
        "optimizer = torch.optim.SGD(model.parameters(), lr=1e-4)\n",
        "\n",
        "for t in range(100000):\n",
        "    y_pred = model(x)\n",
        "\n",
        "    loss = loss_fn(y_pred, y)\n",
        "    if t % 1000 == 0:\n",
        "        print(t, loss.item())\n",
        "\n",
        "    optimizer.zero_grad()\n",
        "    loss.backward()\n",
        "    optimizer.step()"
      ]
    },
    {
      "cell_type": "code",
      "execution_count": 403,
      "metadata": {
        "id": "DTLnr8ED8Clf",
        "outputId": "0ce2b7ed-9b96-4234-8a14-e82a774a75b0",
        "colab": {
          "base_uri": "https://localhost:8080/",
          "height": 282
        }
      },
      "outputs": [
        {
          "output_type": "execute_result",
          "data": {
            "text/plain": [
              "<matplotlib.collections.PathCollection at 0x7f3144988e50>"
            ]
          },
          "metadata": {},
          "execution_count": 403
        },
        {
          "output_type": "display_data",
          "data": {
            "text/plain": [
              "<Figure size 432x288 with 1 Axes>"
            ],
            "image/png": "[encoded data removed]"
          },
          "metadata": {
            "needs_background": "light"
          }
        }
      ],
      "source": [
        "plt.scatter(x, y)\n",
        "plt.scatter(x, y_pred.detach().numpy())"
      ]
    },
    {
      "cell_type": "code",
      "source": [],
      "metadata": {
        "id": "2NhwLJcx5RLO"
      },
      "execution_count": null,
      "outputs": []
    }
  ],
  "metadata": {
    "kernelspec": {
      "display_name": "Python 3",
      "language": "python",
      "name": "python3"
    },
    "language_info": {
      "codemirror_mode": {
        "name": "ipython",
        "version": 3
      },
      "file_extension": ".py",
      "mimetype": "text/x-python",
      "name": "python",
      "nbconvert_exporter": "python",
      "pygments_lexer": "ipython3",
      "version": "3.6.6"
    },
    "colab": {
      "provenance": [],
      "collapsed_sections": []
    }
  },
  "nbformat": 4,
  "nbformat_minor": 0
}